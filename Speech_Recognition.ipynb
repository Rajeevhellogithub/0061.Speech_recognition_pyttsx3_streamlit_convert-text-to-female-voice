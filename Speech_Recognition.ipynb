{
 "cells": [
  {
   "cell_type": "code",
   "execution_count": 12,
   "id": "fe8338f2-f85d-4e32-bdc2-05f794a9a72e",
   "metadata": {},
   "outputs": [],
   "source": [
    "import speech_recognition as sr\n",
    "import pyttsx3 as pt\n",
    "import pywhatkit as pk\n",
    "\n",
    "listening = sr.Recognizer()\n",
    "engine = pt.init('dummy')"
   ]
  },
  {
   "cell_type": "code",
   "execution_count": 13,
   "id": "84aaac6e-32da-40f2-97f1-a1428c49057a",
   "metadata": {},
   "outputs": [],
   "source": [
    "def speak(text):\n",
    "    engine.say(text)\n",
    "    engine.runAndWait()"
   ]
  },
  {
   "cell_type": "code",
   "execution_count": 14,
   "id": "dbe0b6f0-cf69-4961-9033-0a44ebb2c193",
   "metadata": {},
   "outputs": [],
   "source": [
    "def hear():\n",
    "    cmd = \"\"\n",
    "    try:\n",
    "        with sr.Microphone() as mic:\n",
    "            print('Listening...')\n",
    "            voice = listening.listen(mic)\n",
    "            cmd = listening.recognize_google(voice)\n",
    "            cmd = cmd.lower()\n",
    "            if 'kodi' in cmd:\n",
    "                cmd = cmd.replace('kodi', '')\n",
    "                print(cmd)\n",
    "    except Exception as e:\n",
    "        print(f\"Error occurred: {e}\")\n",
    "    return cmd"
   ]
  },
  {
   "cell_type": "code",
   "execution_count": 15,
   "id": "3436fed8-d902-4632-8bb2-322f90e365f6",
   "metadata": {},
   "outputs": [],
   "source": [
    "def run():\n",
    "    cmd = hear()\n",
    "    print(cmd)\n",
    "    if 'play' in cmd:\n",
    "        song = cmd.replace('play', '')\n",
    "        speak('playing' + song)\n",
    "        pk.playonyt('Playing...' + song)"
   ]
  },
  {
   "cell_type": "code",
   "execution_count": 17,
   "id": "d138d9fe-ce01-4c8a-b8b5-8ab4490d5ce6",
   "metadata": {},
   "outputs": [
    {
     "name": "stdout",
     "output_type": "stream",
     "text": [
      "Listening...\n",
      "my name is rajiv i\n"
     ]
    }
   ],
   "source": [
    "run()"
   ]
  }
 ],
 "metadata": {
  "kernelspec": {
   "display_name": "tensorflowkernel",
   "language": "python",
   "name": "tensorflowkernel"
  },
  "language_info": {
   "codemirror_mode": {
    "name": "ipython",
    "version": 3
   },
   "file_extension": ".py",
   "mimetype": "text/x-python",
   "name": "python",
   "nbconvert_exporter": "python",
   "pygments_lexer": "ipython3",
   "version": "3.12.4"
  }
 },
 "nbformat": 4,
 "nbformat_minor": 5
}
